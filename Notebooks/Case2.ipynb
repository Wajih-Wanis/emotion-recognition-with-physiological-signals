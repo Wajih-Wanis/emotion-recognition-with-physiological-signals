{
  "cells": [
    {
      "cell_type": "code",
      "source": [
        "!pip install tf-nightly"
      ],
      "metadata": {
        "colab": {
          "base_uri": "https://localhost:8080/"
        },
        "id": "uDmIsqHzhTao",
        "outputId": "1e1f8d9b-9860-43d7-fda7-42bac9734aff"
      },
      "execution_count": 1,
      "outputs": [
        {
          "output_type": "stream",
          "name": "stdout",
          "text": [
            "Looking in indexes: https://pypi.org/simple, https://us-python.pkg.dev/colab-wheels/public/simple/\n",
            "Collecting tf-nightly\n",
            "  Downloading tf_nightly-2.13.0.dev20230425-cp39-cp39-manylinux_2_17_x86_64.manylinux2014_x86_64.whl (524.7 MB)\n",
            "\u001b[2K     \u001b[90m━━━━━━━━━━━━━━━━━━━━━━━━━━━━━━━━━━━━━━━\u001b[0m \u001b[32m524.7/524.7 MB\u001b[0m \u001b[31m2.5 MB/s\u001b[0m eta \u001b[36m0:00:00\u001b[0m\n",
            "\u001b[?25hRequirement already satisfied: packaging in /usr/local/lib/python3.9/dist-packages (from tf-nightly) (23.1)\n",
            "Requirement already satisfied: typing-extensions>=3.6.6 in /usr/local/lib/python3.9/dist-packages (from tf-nightly) (4.5.0)\n",
            "Requirement already satisfied: absl-py>=1.0.0 in /usr/local/lib/python3.9/dist-packages (from tf-nightly) (1.4.0)\n",
            "Requirement already satisfied: libclang>=13.0.0 in /usr/local/lib/python3.9/dist-packages (from tf-nightly) (16.0.0)\n",
            "Requirement already satisfied: six>=1.12.0 in /usr/local/lib/python3.9/dist-packages (from tf-nightly) (1.16.0)\n",
            "Requirement already satisfied: tensorflow-io-gcs-filesystem>=0.23.1 in /usr/local/lib/python3.9/dist-packages (from tf-nightly) (0.32.0)\n",
            "Requirement already satisfied: gast<=0.4.0,>=0.2.1 in /usr/local/lib/python3.9/dist-packages (from tf-nightly) (0.4.0)\n",
            "Collecting tf-estimator-nightly~=2.13.0.dev\n",
            "  Downloading tf_estimator_nightly-2.13.0.dev2023042508-py2.py3-none-any.whl (440 kB)\n",
            "\u001b[2K     \u001b[90m━━━━━━━━━━━━━━━━━━━━━━━━━━━━━━━━━━━━━━\u001b[0m \u001b[32m440.9/440.9 kB\u001b[0m \u001b[31m35.0 MB/s\u001b[0m eta \u001b[36m0:00:00\u001b[0m\n",
            "\u001b[?25hRequirement already satisfied: google-pasta>=0.1.1 in /usr/local/lib/python3.9/dist-packages (from tf-nightly) (0.2.0)\n",
            "Requirement already satisfied: flatbuffers>=23.1.21 in /usr/local/lib/python3.9/dist-packages (from tf-nightly) (23.3.3)\n",
            "Requirement already satisfied: astunparse>=1.6.0 in /usr/local/lib/python3.9/dist-packages (from tf-nightly) (1.6.3)\n",
            "Collecting keras-nightly~=2.13.0.dev\n",
            "  Downloading keras_nightly-2.13.0.dev2023042507-py3-none-any.whl (1.7 MB)\n",
            "\u001b[2K     \u001b[90m━━━━━━━━━━━━━━━━━━━━━━━━━━━━━━━━━━━━━━━━\u001b[0m \u001b[32m1.7/1.7 MB\u001b[0m \u001b[31m55.3 MB/s\u001b[0m eta \u001b[36m0:00:00\u001b[0m\n",
            "\u001b[?25hRequirement already satisfied: termcolor>=1.1.0 in /usr/local/lib/python3.9/dist-packages (from tf-nightly) (2.2.0)\n",
            "Requirement already satisfied: grpcio<2.0,>=1.24.3 in /usr/local/lib/python3.9/dist-packages (from tf-nightly) (1.53.0)\n",
            "Collecting tb-nightly~=2.13.0.a\n",
            "  Downloading tb_nightly-2.13.0a20230425-py3-none-any.whl (5.6 MB)\n",
            "\u001b[2K     \u001b[90m━━━━━━━━━━━━━━━━━━━━━━━━━━━━━━━━━━━━━━━━\u001b[0m \u001b[32m5.6/5.6 MB\u001b[0m \u001b[31m55.4 MB/s\u001b[0m eta \u001b[36m0:00:00\u001b[0m\n",
            "\u001b[?25hRequirement already satisfied: setuptools in /usr/local/lib/python3.9/dist-packages (from tf-nightly) (67.7.1)\n",
            "Requirement already satisfied: wrapt<1.15,>=1.11.0 in /usr/local/lib/python3.9/dist-packages (from tf-nightly) (1.14.1)\n",
            "Requirement already satisfied: protobuf!=4.21.0,!=4.21.1,!=4.21.2,!=4.21.3,!=4.21.4,!=4.21.5,<5.0.0dev,>=3.20.3 in /usr/local/lib/python3.9/dist-packages (from tf-nightly) (3.20.3)\n",
            "Requirement already satisfied: opt-einsum>=2.3.2 in /usr/local/lib/python3.9/dist-packages (from tf-nightly) (3.3.0)\n",
            "Requirement already satisfied: numpy>=1.22 in /usr/local/lib/python3.9/dist-packages (from tf-nightly) (1.24.3)\n",
            "Requirement already satisfied: h5py>=2.9.0 in /usr/local/lib/python3.9/dist-packages (from tf-nightly) (3.8.0)\n",
            "Requirement already satisfied: wheel<1.0,>=0.23.0 in /usr/local/lib/python3.9/dist-packages (from astunparse>=1.6.0->tf-nightly) (0.40.0)\n",
            "Requirement already satisfied: tensorboard-data-server<0.8.0,>=0.7.0 in /usr/local/lib/python3.9/dist-packages (from tb-nightly~=2.13.0.a->tf-nightly) (0.7.0)\n",
            "Requirement already satisfied: werkzeug>=1.0.1 in /usr/local/lib/python3.9/dist-packages (from tb-nightly~=2.13.0.a->tf-nightly) (2.2.3)\n",
            "Requirement already satisfied: markdown>=2.6.8 in /usr/local/lib/python3.9/dist-packages (from tb-nightly~=2.13.0.a->tf-nightly) (3.4.3)\n",
            "Requirement already satisfied: google-auth-oauthlib<1.1,>=0.5 in /usr/local/lib/python3.9/dist-packages (from tb-nightly~=2.13.0.a->tf-nightly) (1.0.0)\n",
            "Requirement already satisfied: google-auth<3,>=1.6.3 in /usr/local/lib/python3.9/dist-packages (from tb-nightly~=2.13.0.a->tf-nightly) (2.17.3)\n",
            "Requirement already satisfied: requests<3,>=2.21.0 in /usr/local/lib/python3.9/dist-packages (from tb-nightly~=2.13.0.a->tf-nightly) (2.27.1)\n",
            "Requirement already satisfied: pyasn1-modules>=0.2.1 in /usr/local/lib/python3.9/dist-packages (from google-auth<3,>=1.6.3->tb-nightly~=2.13.0.a->tf-nightly) (0.2.8)\n",
            "Requirement already satisfied: rsa<5,>=3.1.4 in /usr/local/lib/python3.9/dist-packages (from google-auth<3,>=1.6.3->tb-nightly~=2.13.0.a->tf-nightly) (4.9)\n",
            "Requirement already satisfied: cachetools<6.0,>=2.0.0 in /usr/local/lib/python3.9/dist-packages (from google-auth<3,>=1.6.3->tb-nightly~=2.13.0.a->tf-nightly) (5.3.0)\n",
            "Requirement already satisfied: requests-oauthlib>=0.7.0 in /usr/local/lib/python3.9/dist-packages (from google-auth-oauthlib<1.1,>=0.5->tb-nightly~=2.13.0.a->tf-nightly) (1.3.1)\n",
            "Requirement already satisfied: importlib-metadata>=4.4 in /usr/local/lib/python3.9/dist-packages (from markdown>=2.6.8->tb-nightly~=2.13.0.a->tf-nightly) (6.4.1)\n",
            "Requirement already satisfied: charset-normalizer~=2.0.0 in /usr/local/lib/python3.9/dist-packages (from requests<3,>=2.21.0->tb-nightly~=2.13.0.a->tf-nightly) (2.0.12)\n",
            "Requirement already satisfied: idna<4,>=2.5 in /usr/local/lib/python3.9/dist-packages (from requests<3,>=2.21.0->tb-nightly~=2.13.0.a->tf-nightly) (3.4)\n",
            "Requirement already satisfied: certifi>=2017.4.17 in /usr/local/lib/python3.9/dist-packages (from requests<3,>=2.21.0->tb-nightly~=2.13.0.a->tf-nightly) (2022.12.7)\n",
            "Requirement already satisfied: urllib3<1.27,>=1.21.1 in /usr/local/lib/python3.9/dist-packages (from requests<3,>=2.21.0->tb-nightly~=2.13.0.a->tf-nightly) (1.26.15)\n",
            "Requirement already satisfied: MarkupSafe>=2.1.1 in /usr/local/lib/python3.9/dist-packages (from werkzeug>=1.0.1->tb-nightly~=2.13.0.a->tf-nightly) (2.1.2)\n",
            "Requirement already satisfied: zipp>=0.5 in /usr/local/lib/python3.9/dist-packages (from importlib-metadata>=4.4->markdown>=2.6.8->tb-nightly~=2.13.0.a->tf-nightly) (3.15.0)\n",
            "Requirement already satisfied: pyasn1<0.5.0,>=0.4.6 in /usr/local/lib/python3.9/dist-packages (from pyasn1-modules>=0.2.1->google-auth<3,>=1.6.3->tb-nightly~=2.13.0.a->tf-nightly) (0.4.8)\n",
            "Requirement already satisfied: oauthlib>=3.0.0 in /usr/local/lib/python3.9/dist-packages (from requests-oauthlib>=0.7.0->google-auth-oauthlib<1.1,>=0.5->tb-nightly~=2.13.0.a->tf-nightly) (3.2.2)\n",
            "Installing collected packages: tf-estimator-nightly, keras-nightly, tb-nightly, tf-nightly\n",
            "Successfully installed keras-nightly-2.13.0.dev2023042507 tb-nightly-2.13.0a20230425 tf-estimator-nightly-2.13.0.dev2023042508 tf-nightly-2.13.0.dev20230425\n"
          ]
        }
      ]
    },
    {
      "cell_type": "code",
      "execution_count": 2,
      "metadata": {
        "id": "vuhqz-h7x28n"
      },
      "outputs": [],
      "source": [
        "import tensorflow as tf \n",
        "import sklearn as sk\n",
        "import numpy as np\n",
        "import matplotlib.pyplot as plt\n",
        "import csv\n",
        "import pandas as pd\n",
        "import plotly.graph_objs as go\n",
        "from sklearn.model_selection import train_test_split\n",
        "%matplotlib inline"
      ]
    },
    {
      "cell_type": "code",
      "source": [
        "from google.colab import drive\n",
        "drive.mount('/content/drive')"
      ],
      "metadata": {
        "colab": {
          "base_uri": "https://localhost:8080/"
        },
        "id": "J5RvKv08nMkr",
        "outputId": "3e55fbfe-c8d3-499b-a82f-e77909b27ea8"
      },
      "execution_count": 3,
      "outputs": [
        {
          "output_type": "stream",
          "name": "stdout",
          "text": [
            "Mounted at /content/drive\n"
          ]
        }
      ]
    },
    {
      "cell_type": "code",
      "execution_count": 4,
      "metadata": {
        "id": "eidRvpuEx28q"
      },
      "outputs": [],
      "source": [
        "sentiment=['noVideo','amusing-1','amusing-2','boring-1','boring-2','relaxed-1','relaxed-2','scary-1','scary-2','noVideo','startVid','bluVid','endVid']"
      ]
    },
    {
      "cell_type": "code",
      "execution_count": 17,
      "metadata": {
        "id": "owQjNcd7x28r"
      },
      "outputs": [],
      "source": [
        "def choose_subjects(Number):\n",
        "\n",
        "    annotations_df = pd.read_csv('/content/drive/MyDrive/Anno/sub_1.csv')\n",
        "    physiological_df = pd.read_csv('/content/drive/MyDrive/Physio/sub_1.csv')\n",
        "    for i in range(2,Number+1) :\n",
        "        chemin1='/content/drive/MyDrive/Anno/sub_{}.csv'.format(i)\n",
        "        chemin2='/content/drive/MyDrive/Physio/sub_{}.csv'.format(i)\n",
        "        annotations_df = pd.concat([annotations_df,pd.read_csv(chemin1)],axis=0)\n",
        "        physiological_df = pd.concat([physiological_df,pd.read_csv(chemin2)],axis=0)\n",
        "    return annotations_df,physiological_df"
      ]
    },
    {
      "cell_type": "code",
      "execution_count": 5,
      "metadata": {
        "id": "_QoMpCSAx28t"
      },
      "outputs": [],
      "source": [
        "def select_rows_join_on_time(i):\n",
        "    if i%50==0:\n",
        "        return True\n",
        "    else:\n",
        "        return False"
      ]
    },
    {
      "cell_type": "code",
      "execution_count": 6,
      "metadata": {
        "id": "xv6iX2BVx28u"
      },
      "outputs": [],
      "source": [
        "def synchronize(anno_df,physio_df):\n",
        "  physio_timejoint_df=physio_df.iloc[[select_rows_join_on_time(i) for i in range(len(physio_df))]]\n",
        "  physio_timejoint_df.reset_index(inplace=True,drop=True)\n",
        "  anno_df.reset_index(inplace=True ,drop=True)\n",
        "  df1 = pd.concat([physio_timejoint_df,anno_df],axis=1)\n",
        "  return df1\n"
      ]
    },
    {
      "cell_type": "code",
      "execution_count": 8,
      "metadata": {
        "id": "FRMXHOvUx28u"
      },
      "outputs": [],
      "source": [
        "def select_rows_median(df):\n",
        "    df=df.iloc[:,1:-1]\n",
        "    rolling_median = df.rolling(window=50, min_periods=1).median()\n",
        "    result = pd.DataFrame({'ecg': rolling_median['ecg'][49::50].values, \n",
        "                        'bvp': rolling_median['bvp'][49::50].values, \n",
        "                        'gsr': rolling_median['gsr'][49::50].values,\n",
        "                        'rsp': rolling_median['rsp'][49::50].values,\n",
        "                        'skt': rolling_median['skt'][49::50].values,\n",
        "                        'emg_zygo': rolling_median['emg_zygo'][49::50].values,\n",
        "                        'emg_coru': rolling_median['emg_coru'][49::50].values,\n",
        "                        'emg_trap': rolling_median['emg_trap'][49::50].values})\n",
        "    last_median = df.tail(34).median()\n",
        "    result = result.append(last_median.to_dict(), ignore_index=True)\n",
        "    return result"
      ]
    },
    {
      "cell_type": "code",
      "execution_count": 9,
      "metadata": {
        "id": "x7YOkdI2x28v"
      },
      "outputs": [],
      "source": [
        "def select_rows_mean(df):\n",
        "    df=df.iloc[:,1:-1]\n",
        "    rolling_median = df.rolling(window=50, min_periods=1).mean()\n",
        "    result = pd.DataFrame({'ecg': rolling_median['ecg'][49::50].values, \n",
        "                        'bvp': rolling_median['bvp'][49::50].values, \n",
        "                        'gsr': rolling_median['gsr'][49::50].values,\n",
        "                        'rsp': rolling_median['rsp'][49::50].values,\n",
        "                        'skt': rolling_median['skt'][49::50].values,\n",
        "                        'emg_zygo': rolling_median['emg_zygo'][49::50].values,\n",
        "                        'emg_coru': rolling_median['emg_coru'][49::50].values,\n",
        "                        'emg_trap': rolling_median['emg_trap'][49::50].values})\n",
        "    last_mean = df.tail(34).mean()\n",
        "    result = result.append(last_mean.to_dict(), ignore_index=True)\n",
        "    return result"
      ]
    },
    {
      "cell_type": "code",
      "execution_count": null,
      "metadata": {
        "id": "k-dJFJHux28v"
      },
      "outputs": [],
      "source": [
        "visual_df = pd.read_csv('/content/drive/MyDrive/physiological/sub_1.csv')\n",
        "df_subset_ecg = visual_df.iloc[:,1]\n",
        "df_subset_bvp = visual_df.iloc[:,2]\n",
        "df_subset_gsr = visual_df.iloc[:, 3]\n",
        "df_subset_rsp = visual_df.iloc[:,4]\n",
        "df_subset_skt = visual_df.iloc[:,:5]\n",
        "df_subset_emg_zygo = visual_df.iloc[:,6]\n",
        "df_subset_emg_coru = visual_df.iloc[:, 7]\n",
        "df_subset_emg_trap = visual_df.iloc[:, 8]\n",
        "\n",
        "trace1 = go.Scatter(x=df_subset_ecg.index, y=df_subset_ecg.values, mode='lines', name='ecg', line=dict(color='blue'))\n",
        "trace2 = go.Scatter(x=df_subset_bvp.index, y=df_subset_bvp.values, mode='lines', name='bvp', line=dict(color='green'))\n",
        "trace3 = go.Scatter(x=df_subset_gsr.index, y=df_subset_gsr.values, mode='lines', name='gsr', line=dict(color='red'))\n",
        "trace4 = go.Scatter(x=df_subset_rsp.index, y=df_subset_rsp.values, mode='lines', name='rsp', line=dict(color='purple'))\n",
        "trace5 = go.Scatter(x=df_subset_skt.index, y=df_subset_skt.values, mode='lines', name='skt', line=dict(color='grey'))\n",
        "trace6 = go.Scatter(x=df_subset_emg_zygo.index, y=df_subset_emg_zygo.values, mode='lines', name='emg_zygo', line=dict(color='brown'))\n",
        "trace7 = go.Scatter(x=df_subset_emg_coru.index, y=df_subset_emg_coru.values, mode='lines', name='emg_coru', line=dict(color='yellow'))\n",
        "trace8 = go.Scatter(x=df_subset_emg_trap.index, y=df_subset_emg_trap.values, mode='lines', name='emg_trap', line=dict(color='orange'))\n",
        "\n",
        "layout = go.Layout(title='Figure des signaux ECG', xaxis=dict(title='temps'), yaxis=dict(title='Signal'))\n",
        "\n",
        "fig = go.Figure(data=[trace1, trace2, trace3, trace4,trace5, trace6, trace7, trace8], layout=layout)\n",
        "\n",
        "fig.show()"
      ]
    },
    {
      "cell_type": "code",
      "execution_count": 10,
      "metadata": {
        "id": "F8DSxExUx28w"
      },
      "outputs": [],
      "source": [
        "def scale_features(df):\n",
        "  features_df = df.iloc[:,11:13]\n",
        "  features_scaled=features_df.values\n",
        "  #features_scaled = features_scaled.reshape(-1,1) #uncomment if using 1 feature\n",
        "  min_max_scaler = sk.preprocessing.MinMaxScaler()\n",
        "  features_scaled=min_max_scaler.fit_transform(features_scaled)\n",
        "  target_df=df.iloc[:,13]\n",
        "  target=target_df.values\n",
        "  return features_scaled,target\n",
        "\n"
      ]
    },
    {
      "cell_type": "code",
      "source": [
        "  from tensorflow.keras import *\n",
        "  from tensorflow.keras.layers import *"
      ],
      "metadata": {
        "id": "Mt66EqdnS0D9"
      },
      "execution_count": 11,
      "outputs": []
    },
    {
      "cell_type": "code",
      "execution_count": 12,
      "metadata": {
        "id": "7kPnM58Ax28x"
      },
      "outputs": [],
      "source": [
        "def train_test(features_scaled,target):\n",
        "  x_Train, x_Test, y_Train, y_Test = train_test_split(features_scaled, target, test_size = 0.2, random_state = 6)\n",
        "  x_Train = x_Train.reshape((x_Train.shape[0], x_Train.shape[1], 1))\n",
        "  x_Test = x_Test.reshape((x_Test.shape[0], x_Test.shape[1], 1))\n",
        "  return x_Train,x_Test,y_Train,y_Test"
      ]
    },
    {
      "cell_type": "code",
      "source": [
        "class AccuracyThresholdCallback(tf.keras.callbacks.Callback):\n",
        "    def on_epoch_end(self, epoch, logs={}):\n",
        "        if logs.get('accuracy') > 0.85 :\n",
        "            print(\"\\nReached 89% accuracy, stopping training.\")\n",
        "            self.model.stop_training = True"
      ],
      "metadata": {
        "id": "wzGbH8X6qnR-"
      },
      "execution_count": 13,
      "outputs": []
    },
    {
      "cell_type": "code",
      "source": [
        "def create_model_compiled(x_Train):\n",
        "  model = Sequential()\n",
        "  model.add(Conv1D(filters=64, kernel_size=2, activation='relu', input_shape=(x_Train.shape[1], 1)))\n",
        "  model.add(Conv1D(filters=128, kernel_size=1, activation='relu'))\n",
        "  model.add(Conv1D(filters=256, kernel_size=1, activation='relu'))\n",
        "  model.add(Conv1D(filters=512, kernel_size=1, activation='relu'))\n",
        "  model.add(MaxPooling1D(pool_size=1))\n",
        "  model.add(Flatten())\n",
        "  model.add(Dense(128, activation='relu'))\n",
        "  model.add(Dropout(0.2))\n",
        "  model.add(Dense(13, activation='softmax'))\n",
        "  return model"
      ],
      "metadata": {
        "id": "mPdXoICe8l6y"
      },
      "execution_count": 14,
      "outputs": []
    },
    {
      "cell_type": "code",
      "execution_count": 15,
      "metadata": {
        "id": "fnQFK96xx28y"
      },
      "outputs": [],
      "source": [
        "\n",
        "from sklearn.metrics import precision_score, recall_score, f1_score\n",
        "from tensorflow.keras.metrics import Precision, Recall,F1Score,Accuracy\n",
        "def model_training(df1,df2):\n",
        "  precision = Precision()\n",
        "  recall = Recall()\n",
        "  f1_score = F1Score()\n",
        "  accuracy = Accuracy()\n",
        "  x_Train,x_Test,y_Train,y_Test=train_test(df1,df2)\n",
        "  model = create_model_compiled(x_Train)\n",
        "  model.compile(loss='sparse_categorical_crossentropy', optimizer='adam',metrics='accuracy')\n",
        "  model.fit(x_Train, y_Train, epochs=3, batch_size=32,callbacks=[AccuracyThresholdCallback()])\n",
        "  precision, recall  = model.evaluate(x_Test, y_Test)\n",
        "  L=[]\n",
        "  L.append(precision)\n",
        "  L.append(recall)\n",
        "  #L.append(f1_score)\n",
        " # L.append(accuracy)\n",
        "  return L"
      ]
    },
    {
      "cell_type": "code",
      "source": [
        "coordinates1=[]\n",
        "for i in range(4):\n",
        "  anno_df,physio_df = choose_subjects(i)\n",
        "  df_syncro=synchronize(anno_df,physio_df)\n",
        " # physio_mean_df = select_rows_mean(physio_df)\n",
        "#  physio_mean_df = pd.concat([physio_mean_df,anno_df],axis=1)\n",
        " # physio_median_df = select_rows_median(physio_df)\n",
        "#  physio_median_df = pd.concat([physio_median_df,anno_df],axis=1)\n",
        "  \n",
        " # coordinates2=[]\n",
        " # coordinates3=[]\n",
        "  scaled_features,target=scale_features(df_syncro)\n",
        " # scaled_mean_features,target=scale_features(physio_mean_df)\n",
        " # scaled_median_features,target=scale_features(physio_median_df)\n",
        "  coordinates1.append(model_training(scaled_features,target))\n",
        " # coordinates2.append(model_training(scaled_mean_features,target))\n",
        "#  coordinates3.append(model_training(scaled_median_features,target))\n"
      ],
      "metadata": {
        "id": "6SnujQJhNXEG",
        "colab": {
          "base_uri": "https://localhost:8080/"
        },
        "outputId": "67c72f8f-90fb-4ffa-c2ad-6751a30b6634"
      },
      "execution_count": 24,
      "outputs": [
        {
          "output_type": "stream",
          "name": "stdout",
          "text": [
            "Epoch 1/3\n",
            "1226/1226 [==============================] - 22s 17ms/step - loss: 0.9944 - accuracy: 0.6821\n",
            "Epoch 2/3\n",
            "1226/1226 [==============================] - 20s 17ms/step - loss: 0.7175 - accuracy: 0.7826\n",
            "Epoch 3/3\n",
            "1226/1226 [==============================] - 20s 17ms/step - loss: 0.6708 - accuracy: 0.8019\n",
            "307/307 [==============================] - 1s 4ms/step - loss: 0.6248 - accuracy: 0.8148\n",
            "Epoch 1/3\n",
            "1226/1226 [==============================] - 22s 17ms/step - loss: 0.9874 - accuracy: 0.6834\n",
            "Epoch 2/3\n",
            "1226/1226 [==============================] - 21s 17ms/step - loss: 0.7090 - accuracy: 0.7869\n",
            "Epoch 3/3\n",
            "1226/1226 [==============================] - 21s 17ms/step - loss: 0.6589 - accuracy: 0.8065\n",
            "307/307 [==============================] - 1s 3ms/step - loss: 0.6349 - accuracy: 0.8115\n",
            "Epoch 1/3\n",
            "2452/2452 [==============================] - 42s 16ms/step - loss: 1.1464 - accuracy: 0.6336\n",
            "Epoch 2/3\n",
            "2452/2452 [==============================] - 40s 16ms/step - loss: 0.9189 - accuracy: 0.7141\n",
            "Epoch 3/3\n",
            "2452/2452 [==============================] - 39s 16ms/step - loss: 0.8751 - accuracy: 0.7323\n",
            "613/613 [==============================] - 3s 5ms/step - loss: 0.8567 - accuracy: 0.7305\n",
            "Epoch 1/3\n",
            "3678/3678 [==============================] - 67s 18ms/step - loss: 1.0417 - accuracy: 0.6618\n",
            "Epoch 2/3\n",
            "3678/3678 [==============================] - 60s 16ms/step - loss: 0.8721 - accuracy: 0.7246\n",
            "Epoch 3/3\n",
            "3678/3678 [==============================] - 61s 17ms/step - loss: 0.8321 - accuracy: 0.7418\n",
            "920/920 [==============================] - 4s 4ms/step - loss: 0.7969 - accuracy: 0.7618\n"
          ]
        }
      ]
    },
    {
      "cell_type": "code",
      "source": [
        "list_range=len(coordinates1)"
      ],
      "metadata": {
        "id": "Ga7VXvjejxli"
      },
      "execution_count": 25,
      "outputs": []
    },
    {
      "cell_type": "code",
      "source": [
        "y1=[]\n",
        "y2=[]\n",
        "x=[]\n",
        "for i in range(list_range):\n",
        "  x.append(i)\n",
        "  y1.append(coordinates1[i][0])\n",
        "  y2.append(coordinates1[i][1])\n",
        "plt.scatter(x,y1)\n",
        "plt.show()\n",
        "plt.scatter(x,y2)\n",
        "plt.show()"
      ],
      "metadata": {
        "id": "Xr3-s9qokV0p",
        "outputId": "3bdeffed-9673-485c-b1de-9893928f1d7c",
        "colab": {
          "base_uri": "https://localhost:8080/",
          "height": 843
        }
      },
      "execution_count": 27,
      "outputs": [
        {
          "output_type": "display_data",
          "data": {
            "text/plain": [
              "<Figure size 640x480 with 1 Axes>"
            ],
            "image/png": "[encoded data removed]"
          },
          "metadata": {}
        },
        {
          "output_type": "display_data",
          "data": {
            "text/plain": [
              "<Figure size 640x480 with 1 Axes>"
            ],
            "image/png": "[encoded data removed]"
          },
          "metadata": {}
        }
      ]
    }
  ],
  "metadata": {
    "accelerator": "TPU",
    "colab": {
      "provenance": []
    },
    "gpuClass": "standard",
    "kernelspec": {
      "display_name": "Python 3 (ipykernel)",
      "language": "python",
      "name": "python3"
    },
    "language_info": {
      "codemirror_mode": {
        "name": "ipython",
        "version": 3
      },
      "file_extension": ".py",
      "mimetype": "text/x-python",
      "name": "python",
      "nbconvert_exporter": "python",
      "pygments_lexer": "ipython3",
      "version": "3.9.13"
    },
    "vscode": {
      "interpreter": {
        "hash": "ae4222f051e9b1ff1b7b46e5b84f02b0bb8cf297303877c9a81673e16f30d680"
      }
    }
  },
  "nbformat": 4,
  "nbformat_minor": 0
}