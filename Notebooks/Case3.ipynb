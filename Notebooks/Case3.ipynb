{
  "cells": [
    {
      "cell_type": "code",
      "execution_count": null,
      "metadata": {
        "id": "vuhqz-h7x28n"
      },
      "outputs": [],
      "source": [
        "import tensorflow as tf \n",
        "import sklearn as sk\n",
        "import numpy as np\n",
        "import matplotlib.pyplot as plt\n",
        "import csv\n",
        "import pandas as pd\n",
        "import plotly.graph_objs as go\n",
        "from sklearn.model_selection import train_test_split\n",
        "%matplotlib inline"
      ]
    },
    {
      "cell_type": "code",
      "execution_count": null,
      "metadata": {
        "colab": {
          "base_uri": "https://localhost:8080/"
        },
        "id": "6xrEWBGyyDYQ",
        "outputId": "729bd19b-f6ac-443e-ab45-08d879a685e6"
      },
      "outputs": [
        {
          "output_type": "stream",
          "name": "stdout",
          "text": [
            "Mounted at /content/drive\n"
          ]
        }
      ],
      "source": [
        "from google.colab import drive\n",
        "drive.mount('/content/drive')"
      ]
    },
    {
      "cell_type": "code",
      "execution_count": null,
      "metadata": {
        "id": "eidRvpuEx28q"
      },
      "outputs": [],
      "source": [
        "sentiment=['noVideo','amusing-1','amusing-2','boring-1','boring-2','relaxed-1','relaxed-2','scary-1','scary-2','noVideo','startVid','bluVid','endVid']"
      ]
    },
    {
      "cell_type": "code",
      "execution_count": null,
      "metadata": {
        "id": "owQjNcd7x28r"
      },
      "outputs": [],
      "source": [
        "def choose_subjects(Number):\n",
        "\n",
        "    annotations_df = pd.read_csv('/content/drive/MyDrive/Anno/sub_1.csv')\n",
        "    physiological_df = pd.read_csv('/content/drive/MyDrive/Physio/sub_1.csv')\n",
        "    for i in range(2,Number+1) :\n",
        "        chemin1='/content/drive/MyDrive/Anno/sub_{}.csv'.format(i)\n",
        "        chemin2='/content/drive/MyDrive/Physio/sub_{}.csv'.format(i)\n",
        "        annotations_df = pd.concat([annotations_df,pd.read_csv(chemin1)],axis=0)\n",
        "        physiological_df = pd.concat([physiological_df,pd.read_csv(chemin2)],axis=0)\n",
        "    return annotations_df,physiological_df"
      ]
    },
    {
      "cell_type": "code",
      "execution_count": null,
      "metadata": {
        "id": "SoXcf56Dx28r"
      },
      "outputs": [],
      "source": [
        "anno_df,physio_df=choose_subjects(3)"
      ]
    },
    {
      "cell_type": "code",
      "execution_count": null,
      "metadata": {
        "colab": {
          "base_uri": "https://localhost:8080/",
          "height": 423
        },
        "id": "cAWzy-Wax28s",
        "outputId": "444918c6-6b12-4728-d96a-2027050ee345"
      },
      "outputs": [
        {
          "output_type": "execute_result",
          "data": {
            "text/plain": [
              "        jstime  valence  arousal  video\n",
              "0            0      5.0      5.0     10\n",
              "1           50      5.0      5.0     10\n",
              "2          100      5.0      5.0     10\n",
              "3          150      5.0      5.0     10\n",
              "4          200      5.0      5.0     10\n",
              "...        ...      ...      ...    ...\n",
              "49027  2451350      5.0      5.0     12\n",
              "49028  2451400      5.0      5.0     12\n",
              "49029  2451450      5.0      5.0     12\n",
              "49030  2451500      5.0      5.0     12\n",
              "49031  2451550      5.0      5.0     12\n",
              "\n",
              "[147096 rows x 4 columns]"
            ],
            "text/html": [
              "\n",
              "  <div id=\"df-41b0d5ce-ce7e-4017-98b5-8bad2861e3ae\">\n",
              "    <div class=\"colab-df-container\">\n",
              "      <div>\n",
              "<style scoped>\n",
              "    .dataframe tbody tr th:only-of-type {\n",
              "        vertical-align: middle;\n",
              "    }\n",
              "\n",
              "    .dataframe tbody tr th {\n",
              "        vertical-align: top;\n",
              "    }\n",
              "\n",
              "    .dataframe thead th {\n",
              "        text-align: right;\n",
              "    }\n",
              "</style>\n",
              "<table border=\"1\" class=\"dataframe\">\n",
              "  <thead>\n",
              "    <tr style=\"text-align: right;\">\n",
              "      <th></th>\n",
              "      <th>jstime</th>\n",
              "      <th>valence</th>\n",
              "      <th>arousal</th>\n",
              "      <th>video</th>\n",
              "    </tr>\n",
              "  </thead>\n",
              "  <tbody>\n",
              "    <tr>\n",
              "      <th>0</th>\n",
              "      <td>0</td>\n",
              "      <td>5.0</td>\n",
              "      <td>5.0</td>\n",
              "      <td>10</td>\n",
              "    </tr>\n",
              "    <tr>\n",
              "      <th>1</th>\n",
              "      <td>50</td>\n",
              "      <td>5.0</td>\n",
              "      <td>5.0</td>\n",
              "      <td>10</td>\n",
              "    </tr>\n",
              "    <tr>\n",
              "      <th>2</th>\n",
              "      <td>100</td>\n",
              "      <td>5.0</td>\n",
              "      <td>5.0</td>\n",
              "      <td>10</td>\n",
              "    </tr>\n",
              "    <tr>\n",
              "      <th>3</th>\n",
              "      <td>150</td>\n",
              "      <td>5.0</td>\n",
              "      <td>5.0</td>\n",
              "      <td>10</td>\n",
              "    </tr>\n",
              "    <tr>\n",
              "      <th>4</th>\n",
              "      <td>200</td>\n",
              "      <td>5.0</td>\n",
              "      <td>5.0</td>\n",
              "      <td>10</td>\n",
              "    </tr>\n",
              "    <tr>\n",
              "      <th>...</th>\n",
              "      <td>...</td>\n",
              "      <td>...</td>\n",
              "      <td>...</td>\n",
              "      <td>...</td>\n",
              "    </tr>\n",
              "    <tr>\n",
              "      <th>49027</th>\n",
              "      <td>2451350</td>\n",
              "      <td>5.0</td>\n",
              "      <td>5.0</td>\n",
              "      <td>12</td>\n",
              "    </tr>\n",
              "    <tr>\n",
              "      <th>49028</th>\n",
              "      <td>2451400</td>\n",
              "      <td>5.0</td>\n",
              "      <td>5.0</td>\n",
              "      <td>12</td>\n",
              "    </tr>\n",
              "    <tr>\n",
              "      <th>49029</th>\n",
              "      <td>2451450</td>\n",
              "      <td>5.0</td>\n",
              "      <td>5.0</td>\n",
              "      <td>12</td>\n",
              "    </tr>\n",
              "    <tr>\n",
              "      <th>49030</th>\n",
              "      <td>2451500</td>\n",
              "      <td>5.0</td>\n",
              "      <td>5.0</td>\n",
              "      <td>12</td>\n",
              "    </tr>\n",
              "    <tr>\n",
              "      <th>49031</th>\n",
              "      <td>2451550</td>\n",
              "      <td>5.0</td>\n",
              "      <td>5.0</td>\n",
              "      <td>12</td>\n",
              "    </tr>\n",
              "  </tbody>\n",
              "</table>\n",
              "<p>147096 rows × 4 columns</p>\n",
              "</div>\n",
              "      <button class=\"colab-df-convert\" onclick=\"convertToInteractive('df-41b0d5ce-ce7e-4017-98b5-8bad2861e3ae')\"\n",
              "              title=\"Convert this dataframe to an interactive table.\"\n",
              "              style=\"display:none;\">\n",
              "        \n",
              "  <svg xmlns=\"http://www.w3.org/2000/svg\" height=\"24px\"viewBox=\"0 0 24 24\"\n",
              "       width=\"24px\">\n",
              "    <path d=\"M0 0h24v24H0V0z\" fill=\"none\"/>\n",
              "    <path d=\"M18.56 5.44l.94 2.06.94-2.06 2.06-.94-2.06-.94-.94-2.06-.94 2.06-2.06.94zm-11 1L8.5 8.5l.94-2.06 2.06-.94-2.06-.94L8.5 2.5l-.94 2.06-2.06.94zm10 10l.94 2.06.94-2.06 2.06-.94-2.06-.94-.94-2.06-.94 2.06-2.06.94z\"/><path d=\"M17.41 7.96l-1.37-1.37c-.4-.4-.92-.59-1.43-.59-.52 0-1.04.2-1.43.59L10.3 9.45l-7.72 7.72c-.78.78-.78 2.05 0 2.83L4 21.41c.39.39.9.59 1.41.59.51 0 1.02-.2 1.41-.59l7.78-7.78 2.81-2.81c.8-.78.8-2.07 0-2.86zM5.41 20L4 18.59l7.72-7.72 1.47 1.35L5.41 20z\"/>\n",
              "  </svg>\n",
              "      </button>\n",
              "      \n",
              "  <style>\n",
              "    .colab-df-container {\n",
              "      display:flex;\n",
              "      flex-wrap:wrap;\n",
              "      gap: 12px;\n",
              "    }\n",
              "\n",
              "    .colab-df-convert {\n",
              "      background-color: #E8F0FE;\n",
              "      border: none;\n",
              "      border-radius: 50%;\n",
              "      cursor: pointer;\n",
              "      display: none;\n",
              "      fill: #1967D2;\n",
              "      height: 32px;\n",
              "      padding: 0 0 0 0;\n",
              "      width: 32px;\n",
              "    }\n",
              "\n",
              "    .colab-df-convert:hover {\n",
              "      background-color: #E2EBFA;\n",
              "      box-shadow: 0px 1px 2px rgba(60, 64, 67, 0.3), 0px 1px 3px 1px rgba(60, 64, 67, 0.15);\n",
              "      fill: #174EA6;\n",
              "    }\n",
              "\n",
              "    [theme=dark] .colab-df-convert {\n",
              "      background-color: #3B4455;\n",
              "      fill: #D2E3FC;\n",
              "    }\n",
              "\n",
              "    [theme=dark] .colab-df-convert:hover {\n",
              "      background-color: #434B5C;\n",
              "      box-shadow: 0px 1px 3px 1px rgba(0, 0, 0, 0.15);\n",
              "      filter: drop-shadow(0px 1px 2px rgba(0, 0, 0, 0.3));\n",
              "      fill: #FFFFFF;\n",
              "    }\n",
              "  </style>\n",
              "\n",
              "      <script>\n",
              "        const buttonEl =\n",
              "          document.querySelector('#df-41b0d5ce-ce7e-4017-98b5-8bad2861e3ae button.colab-df-convert');\n",
              "        buttonEl.style.display =\n",
              "          google.colab.kernel.accessAllowed ? 'block' : 'none';\n",
              "\n",
              "        async function convertToInteractive(key) {\n",
              "          const element = document.querySelector('#df-41b0d5ce-ce7e-4017-98b5-8bad2861e3ae');\n",
              "          const dataTable =\n",
              "            await google.colab.kernel.invokeFunction('convertToInteractive',\n",
              "                                                     [key], {});\n",
              "          if (!dataTable) return;\n",
              "\n",
              "          const docLinkHtml = 'Like what you see? Visit the ' +\n",
              "            '<a target=\"_blank\" href=https://colab.research.google.com/notebooks/data_table.ipynb>data table notebook</a>'\n",
              "            + ' to learn more about interactive tables.';\n",
              "          element.innerHTML = '';\n",
              "          dataTable['output_type'] = 'display_data';\n",
              "          await google.colab.output.renderOutput(dataTable, element);\n",
              "          const docLink = document.createElement('div');\n",
              "          docLink.innerHTML = docLinkHtml;\n",
              "          element.appendChild(docLink);\n",
              "        }\n",
              "      </script>\n",
              "    </div>\n",
              "  </div>\n",
              "  "
            ]
          },
          "metadata": {},
          "execution_count": 6
        }
      ],
      "source": [
        "anno_df"
      ]
    },
    {
      "cell_type": "code",
      "execution_count": null,
      "metadata": {
        "colab": {
          "base_uri": "https://localhost:8080/",
          "height": 423
        },
        "id": "kA87OUw7x28t",
        "outputId": "a9dc8eca-4e5d-44f9-cc95-947132e187f4"
      },
      "outputs": [
        {
          "output_type": "execute_result",
          "data": {
            "text/plain": [
              "         daqtime    ecg     bvp     gsr     rsp     skt  emg_zygo  emg_coru  \\\n",
              "0              0  0.846  38.172  11.749  27.610  29.495     7.288     8.684   \n",
              "1              1  0.836  38.249  11.737  27.601  29.488     7.288     8.725   \n",
              "2              2  0.843  38.058  11.757  27.600  29.488     7.329     8.726   \n",
              "3              3  0.836  38.075  11.730  27.572  29.481     7.207     8.644   \n",
              "4              4  0.852  38.210  11.745  27.591  29.484     7.247     8.765   \n",
              "...          ...    ...     ...     ...     ...     ...       ...       ...   \n",
              "2451579  2451579  0.925  35.899  31.804  30.417  24.110    18.049     6.960   \n",
              "2451580  2451580  0.912  36.059  31.696  30.427  24.113    18.170     7.082   \n",
              "2451581  2451581  0.905  36.214  31.734  30.446  24.117    18.212     7.123   \n",
              "2451582  2451582  0.882  36.254  31.738  30.437  24.106    17.968     7.002   \n",
              "2451583  2451583  0.889  35.929  31.781  30.437  24.103    17.925     7.041   \n",
              "\n",
              "         emg_trap  video  \n",
              "0           6.550     10  \n",
              "1           6.468     10  \n",
              "2           6.589     10  \n",
              "3           6.468     10  \n",
              "4           6.507     10  \n",
              "...           ...    ...  \n",
              "2451579     6.262     12  \n",
              "2451580     6.302     12  \n",
              "2451581     6.343     12  \n",
              "2451582     6.262     12  \n",
              "2451583     6.302     12  \n",
              "\n",
              "[7354752 rows x 10 columns]"
            ],
            "text/html": [
              "\n",
              "  <div id=\"df-f1c9f380-7a15-4b9f-b5e9-8b82f60766d2\">\n",
              "    <div class=\"colab-df-container\">\n",
              "      <div>\n",
              "<style scoped>\n",
              "    .dataframe tbody tr th:only-of-type {\n",
              "        vertical-align: middle;\n",
              "    }\n",
              "\n",
              "    .dataframe tbody tr th {\n",
              "        vertical-align: top;\n",
              "    }\n",
              "\n",
              "    .dataframe thead th {\n",
              "        text-align: right;\n",
              "    }\n",
              "</style>\n",
              "<table border=\"1\" class=\"dataframe\">\n",
              "  <thead>\n",
              "    <tr style=\"text-align: right;\">\n",
              "      <th></th>\n",
              "      <th>daqtime</th>\n",
              "      <th>ecg</th>\n",
              "      <th>bvp</th>\n",
              "      <th>gsr</th>\n",
              "      <th>rsp</th>\n",
              "      <th>skt</th>\n",
              "      <th>emg_zygo</th>\n",
              "      <th>emg_coru</th>\n",
              "      <th>emg_trap</th>\n",
              "      <th>video</th>\n",
              "    </tr>\n",
              "  </thead>\n",
              "  <tbody>\n",
              "    <tr>\n",
              "      <th>0</th>\n",
              "      <td>0</td>\n",
              "      <td>0.846</td>\n",
              "      <td>38.172</td>\n",
              "      <td>11.749</td>\n",
              "      <td>27.610</td>\n",
              "      <td>29.495</td>\n",
              "      <td>7.288</td>\n",
              "      <td>8.684</td>\n",
              "      <td>6.550</td>\n",
              "      <td>10</td>\n",
              "    </tr>\n",
              "    <tr>\n",
              "      <th>1</th>\n",
              "      <td>1</td>\n",
              "      <td>0.836</td>\n",
              "      <td>38.249</td>\n",
              "      <td>11.737</td>\n",
              "      <td>27.601</td>\n",
              "      <td>29.488</td>\n",
              "      <td>7.288</td>\n",
              "      <td>8.725</td>\n",
              "      <td>6.468</td>\n",
              "      <td>10</td>\n",
              "    </tr>\n",
              "    <tr>\n",
              "      <th>2</th>\n",
              "      <td>2</td>\n",
              "      <td>0.843</td>\n",
              "      <td>38.058</td>\n",
              "      <td>11.757</td>\n",
              "      <td>27.600</td>\n",
              "      <td>29.488</td>\n",
              "      <td>7.329</td>\n",
              "      <td>8.726</td>\n",
              "      <td>6.589</td>\n",
              "      <td>10</td>\n",
              "    </tr>\n",
              "    <tr>\n",
              "      <th>3</th>\n",
              "      <td>3</td>\n",
              "      <td>0.836</td>\n",
              "      <td>38.075</td>\n",
              "      <td>11.730</td>\n",
              "      <td>27.572</td>\n",
              "      <td>29.481</td>\n",
              "      <td>7.207</td>\n",
              "      <td>8.644</td>\n",
              "      <td>6.468</td>\n",
              "      <td>10</td>\n",
              "    </tr>\n",
              "    <tr>\n",
              "      <th>4</th>\n",
              "      <td>4</td>\n",
              "      <td>0.852</td>\n",
              "      <td>38.210</td>\n",
              "      <td>11.745</td>\n",
              "      <td>27.591</td>\n",
              "      <td>29.484</td>\n",
              "      <td>7.247</td>\n",
              "      <td>8.765</td>\n",
              "      <td>6.507</td>\n",
              "      <td>10</td>\n",
              "    </tr>\n",
              "    <tr>\n",
              "      <th>...</th>\n",
              "      <td>...</td>\n",
              "      <td>...</td>\n",
              "      <td>...</td>\n",
              "      <td>...</td>\n",
              "      <td>...</td>\n",
              "      <td>...</td>\n",
              "      <td>...</td>\n",
              "      <td>...</td>\n",
              "      <td>...</td>\n",
              "      <td>...</td>\n",
              "    </tr>\n",
              "    <tr>\n",
              "      <th>2451579</th>\n",
              "      <td>2451579</td>\n",
              "      <td>0.925</td>\n",
              "      <td>35.899</td>\n",
              "      <td>31.804</td>\n",
              "      <td>30.417</td>\n",
              "      <td>24.110</td>\n",
              "      <td>18.049</td>\n",
              "      <td>6.960</td>\n",
              "      <td>6.262</td>\n",
              "      <td>12</td>\n",
              "    </tr>\n",
              "    <tr>\n",
              "      <th>2451580</th>\n",
              "      <td>2451580</td>\n",
              "      <td>0.912</td>\n",
              "      <td>36.059</td>\n",
              "      <td>31.696</td>\n",
              "      <td>30.427</td>\n",
              "      <td>24.113</td>\n",
              "      <td>18.170</td>\n",
              "      <td>7.082</td>\n",
              "      <td>6.302</td>\n",
              "      <td>12</td>\n",
              "    </tr>\n",
              "    <tr>\n",
              "      <th>2451581</th>\n",
              "      <td>2451581</td>\n",
              "      <td>0.905</td>\n",
              "      <td>36.214</td>\n",
              "      <td>31.734</td>\n",
              "      <td>30.446</td>\n",
              "      <td>24.117</td>\n",
              "      <td>18.212</td>\n",
              "      <td>7.123</td>\n",
              "      <td>6.343</td>\n",
              "      <td>12</td>\n",
              "    </tr>\n",
              "    <tr>\n",
              "      <th>2451582</th>\n",
              "      <td>2451582</td>\n",
              "      <td>0.882</td>\n",
              "      <td>36.254</td>\n",
              "      <td>31.738</td>\n",
              "      <td>30.437</td>\n",
              "      <td>24.106</td>\n",
              "      <td>17.968</td>\n",
              "      <td>7.002</td>\n",
              "      <td>6.262</td>\n",
              "      <td>12</td>\n",
              "    </tr>\n",
              "    <tr>\n",
              "      <th>2451583</th>\n",
              "      <td>2451583</td>\n",
              "      <td>0.889</td>\n",
              "      <td>35.929</td>\n",
              "      <td>31.781</td>\n",
              "      <td>30.437</td>\n",
              "      <td>24.103</td>\n",
              "      <td>17.925</td>\n",
              "      <td>7.041</td>\n",
              "      <td>6.302</td>\n",
              "      <td>12</td>\n",
              "    </tr>\n",
              "  </tbody>\n",
              "</table>\n",
              "<p>7354752 rows × 10 columns</p>\n",
              "</div>\n",
              "      <button class=\"colab-df-convert\" onclick=\"convertToInteractive('df-f1c9f380-7a15-4b9f-b5e9-8b82f60766d2')\"\n",
              "              title=\"Convert this dataframe to an interactive table.\"\n",
              "              style=\"display:none;\">\n",
              "        \n",
              "  <svg xmlns=\"http://www.w3.org/2000/svg\" height=\"24px\"viewBox=\"0 0 24 24\"\n",
              "       width=\"24px\">\n",
              "    <path d=\"M0 0h24v24H0V0z\" fill=\"none\"/>\n",
              "    <path d=\"M18.56 5.44l.94 2.06.94-2.06 2.06-.94-2.06-.94-.94-2.06-.94 2.06-2.06.94zm-11 1L8.5 8.5l.94-2.06 2.06-.94-2.06-.94L8.5 2.5l-.94 2.06-2.06.94zm10 10l.94 2.06.94-2.06 2.06-.94-2.06-.94-.94-2.06-.94 2.06-2.06.94z\"/><path d=\"M17.41 7.96l-1.37-1.37c-.4-.4-.92-.59-1.43-.59-.52 0-1.04.2-1.43.59L10.3 9.45l-7.72 7.72c-.78.78-.78 2.05 0 2.83L4 21.41c.39.39.9.59 1.41.59.51 0 1.02-.2 1.41-.59l7.78-7.78 2.81-2.81c.8-.78.8-2.07 0-2.86zM5.41 20L4 18.59l7.72-7.72 1.47 1.35L5.41 20z\"/>\n",
              "  </svg>\n",
              "      </button>\n",
              "      \n",
              "  <style>\n",
              "    .colab-df-container {\n",
              "      display:flex;\n",
              "      flex-wrap:wrap;\n",
              "      gap: 12px;\n",
              "    }\n",
              "\n",
              "    .colab-df-convert {\n",
              "      background-color: #E8F0FE;\n",
              "      border: none;\n",
              "      border-radius: 50%;\n",
              "      cursor: pointer;\n",
              "      display: none;\n",
              "      fill: #1967D2;\n",
              "      height: 32px;\n",
              "      padding: 0 0 0 0;\n",
              "      width: 32px;\n",
              "    }\n",
              "\n",
              "    .colab-df-convert:hover {\n",
              "      background-color: #E2EBFA;\n",
              "      box-shadow: 0px 1px 2px rgba(60, 64, 67, 0.3), 0px 1px 3px 1px rgba(60, 64, 67, 0.15);\n",
              "      fill: #174EA6;\n",
              "    }\n",
              "\n",
              "    [theme=dark] .colab-df-convert {\n",
              "      background-color: #3B4455;\n",
              "      fill: #D2E3FC;\n",
              "    }\n",
              "\n",
              "    [theme=dark] .colab-df-convert:hover {\n",
              "      background-color: #434B5C;\n",
              "      box-shadow: 0px 1px 3px 1px rgba(0, 0, 0, 0.15);\n",
              "      filter: drop-shadow(0px 1px 2px rgba(0, 0, 0, 0.3));\n",
              "      fill: #FFFFFF;\n",
              "    }\n",
              "  </style>\n",
              "\n",
              "      <script>\n",
              "        const buttonEl =\n",
              "          document.querySelector('#df-f1c9f380-7a15-4b9f-b5e9-8b82f60766d2 button.colab-df-convert');\n",
              "        buttonEl.style.display =\n",
              "          google.colab.kernel.accessAllowed ? 'block' : 'none';\n",
              "\n",
              "        async function convertToInteractive(key) {\n",
              "          const element = document.querySelector('#df-f1c9f380-7a15-4b9f-b5e9-8b82f60766d2');\n",
              "          const dataTable =\n",
              "            await google.colab.kernel.invokeFunction('convertToInteractive',\n",
              "                                                     [key], {});\n",
              "          if (!dataTable) return;\n",
              "\n",
              "          const docLinkHtml = 'Like what you see? Visit the ' +\n",
              "            '<a target=\"_blank\" href=https://colab.research.google.com/notebooks/data_table.ipynb>data table notebook</a>'\n",
              "            + ' to learn more about interactive tables.';\n",
              "          element.innerHTML = '';\n",
              "          dataTable['output_type'] = 'display_data';\n",
              "          await google.colab.output.renderOutput(dataTable, element);\n",
              "          const docLink = document.createElement('div');\n",
              "          docLink.innerHTML = docLinkHtml;\n",
              "          element.appendChild(docLink);\n",
              "        }\n",
              "      </script>\n",
              "    </div>\n",
              "  </div>\n",
              "  "
            ]
          },
          "metadata": {},
          "execution_count": 7
        }
      ],
      "source": [
        "physio_df"
      ]
    },
    {
      "cell_type": "code",
      "execution_count": null,
      "metadata": {
        "id": "_QoMpCSAx28t"
      },
      "outputs": [],
      "source": [
        "def select_rows_join_on_time(i):\n",
        "    if i%50==0:\n",
        "        return True\n",
        "    else:\n",
        "        return False"
      ]
    },
    {
      "cell_type": "code",
      "execution_count": null,
      "metadata": {
        "id": "xv6iX2BVx28u"
      },
      "outputs": [],
      "source": [
        "physio_timejoint_df=physio_df.iloc[[select_rows_join_on_time(i) for i in range(len(physio_df))]]\n",
        "physio_timejoint_df.reset_index(inplace=True,drop=True)\n",
        "anno_df.reset_index(inplace=True ,drop=True)\n",
        "df1 = pd.concat([physio_timejoint_df,anno_df],axis=1)"
      ]
    },
    {
      "cell_type": "code",
      "execution_count": null,
      "metadata": {
        "id": "FRMXHOvUx28u"
      },
      "outputs": [],
      "source": [
        "def select_rows_median(df):\n",
        "    df=df.iloc[:,1:-1]\n",
        "    rolling_median = df.rolling(window=50, min_periods=1).median()\n",
        "    result = pd.DataFrame({'ecg': rolling_median['ecg'][49::50].values, \n",
        "                        'bvp': rolling_median['bvp'][49::50].values, \n",
        "                        'gsr': rolling_median['gsr'][49::50].values,\n",
        "                        'rsp': rolling_median['rsp'][49::50].values,\n",
        "                        'skt': rolling_median['skt'][49::50].values,\n",
        "                        'emg_zygo': rolling_median['emg_zygo'][49::50].values,\n",
        "                        'emg_coru': rolling_median['emg_coru'][49::50].values,\n",
        "                        'emg_trap': rolling_median['emg_trap'][49::50].values})\n",
        "    last_median = df.tail(34).median()\n",
        "    result = result.append(last_median.to_dict(), ignore_index=True)\n",
        "    return result"
      ]
    },
    {
      "cell_type": "code",
      "execution_count": null,
      "metadata": {
        "colab": {
          "base_uri": "https://localhost:8080/"
        },
        "id": "UYqZ4YGux28u",
        "outputId": "46b87d2c-698f-4b15-83f5-66678994c1b8"
      },
      "outputs": [
        {
          "output_type": "stream",
          "name": "stderr",
          "text": [
            "<ipython-input-10-2bf4dd871938>:13: FutureWarning: The frame.append method is deprecated and will be removed from pandas in a future version. Use pandas.concat instead.\n",
            "  result = result.append(last_median.to_dict(), ignore_index=True)\n"
          ]
        }
      ],
      "source": [
        "physio_median_df = select_rows_median(physio_df)"
      ]
    },
    {
      "cell_type": "code",
      "execution_count": null,
      "metadata": {
        "id": "x7YOkdI2x28v"
      },
      "outputs": [],
      "source": [
        "def select_rows_mean(df):\n",
        "    df=df.iloc[:,1:-1]\n",
        "    rolling_median = df.rolling(window=50, min_periods=1).mean()\n",
        "    result = pd.DataFrame({'ecg': rolling_median['ecg'][49::50].values, \n",
        "                        'bvp': rolling_median['bvp'][49::50].values, \n",
        "                        'gsr': rolling_median['gsr'][49::50].values,\n",
        "                        'rsp': rolling_median['rsp'][49::50].values,\n",
        "                        'skt': rolling_median['skt'][49::50].values,\n",
        "                        'emg_zygo': rolling_median['emg_zygo'][49::50].values,\n",
        "                        'emg_coru': rolling_median['emg_coru'][49::50].values,\n",
        "                        'emg_trap': rolling_median['emg_trap'][49::50].values})\n",
        "    last_mean = df.tail(34).mean()\n",
        "    result = result.append(last_mean.to_dict(), ignore_index=True)\n",
        "    return result"
      ]
    },
    {
      "cell_type": "code",
      "execution_count": null,
      "metadata": {
        "colab": {
          "base_uri": "https://localhost:8080/"
        },
        "id": "KfVhIBwEx28v",
        "outputId": "d05ac287-130c-4e48-af45-a32018448740"
      },
      "outputs": [
        {
          "output_type": "stream",
          "name": "stderr",
          "text": [
            "<ipython-input-12-e4b5e5ebaf7b>:13: FutureWarning: The frame.append method is deprecated and will be removed from pandas in a future version. Use pandas.concat instead.\n",
            "  result = result.append(last_mean.to_dict(), ignore_index=True)\n"
          ]
        }
      ],
      "source": [
        "physio_mean_df = select_rows_mean(physio_df)"
      ]
    },
    {
      "cell_type": "code",
      "execution_count": null,
      "metadata": {
        "id": "k-dJFJHux28v"
      },
      "outputs": [],
      "source": [
        "visual_df = pd.read_csv('/content/drive/MyDrive/Physio/sub_1.csv')\n",
        "df_subset_ecg = visual_df.iloc[:,1]\n",
        "df_subset_bvp = visual_df.iloc[:,2]\n",
        "df_subset_gsr = visual_df.iloc[:, 3]\n",
        "df_subset_rsp = visual_df.iloc[:,4]\n",
        "df_subset_skt = visual_df.iloc[:,:5]\n",
        "df_subset_emg_zygo = visual_df.iloc[:,6]\n",
        "df_subset_emg_coru = visual_df.iloc[:, 7]\n",
        "df_subset_emg_trap = visual_df.iloc[:, 8]\n",
        "\n",
        "trace1 = go.Scatter(x=df_subset_ecg.index, y=df_subset_ecg.values, mode='lines', name='ecg', line=dict(color='blue'))\n",
        "trace2 = go.Scatter(x=df_subset_bvp.index, y=df_subset_bvp.values, mode='lines', name='bvp', line=dict(color='green'))\n",
        "trace3 = go.Scatter(x=df_subset_gsr.index, y=df_subset_gsr.values, mode='lines', name='gsr', line=dict(color='red'))\n",
        "trace4 = go.Scatter(x=df_subset_rsp.index, y=df_subset_rsp.values, mode='lines', name='rsp', line=dict(color='purple'))\n",
        "trace5 = go.Scatter(x=df_subset_skt.index, y=df_subset_skt.values, mode='lines', name='skt', line=dict(color='grey'))\n",
        "trace6 = go.Scatter(x=df_subset_emg_zygo.index, y=df_subset_emg_zygo.values, mode='lines', name='emg_zygo', line=dict(color='brown'))\n",
        "trace7 = go.Scatter(x=df_subset_emg_coru.index, y=df_subset_emg_coru.values, mode='lines', name='emg_coru', line=dict(color='yellow'))\n",
        "trace8 = go.Scatter(x=df_subset_emg_trap.index, y=df_subset_emg_trap.values, mode='lines', name='emg_trap', line=dict(color='orange'))\n",
        "\n",
        "layout = go.Layout(title='Figure des signaux ECG', xaxis=dict(title='temps'), yaxis=dict(title='Signal'))\n",
        "\n",
        "fig = go.Figure(data=[trace1, trace2, trace3, trace4,trace5, trace6, trace7, trace8], layout=layout)\n",
        "\n",
        "fig.show()"
      ]
    },
    {
      "cell_type": "code",
      "execution_count": null,
      "metadata": {
        "id": "p8cJLMWDjkYv"
      },
      "outputs": [],
      "source": [
        "df1"
      ]
    },
    {
      "cell_type": "code",
      "execution_count": null,
      "metadata": {
        "id": "F8DSxExUx28w"
      },
      "outputs": [],
      "source": [
        "features_df = df1.iloc[:,1:8]\n",
        "features_scaled=features_df.values\n",
        "#features_scaled = features_scaled.reshape(-1,1) #uncomment if using 1 feature\n",
        "min_max_scaler = sk.preprocessing.MinMaxScaler()\n",
        "features_scaled=min_max_scaler.fit_transform(features_scaled)\n",
        "\n",
        "target_df=df1.iloc[:,11]\n",
        "target=target_df.values"
      ]
    },
    {
      "cell_type": "code",
      "execution_count": null,
      "metadata": {
        "id": "7kPnM58Ax28x"
      },
      "outputs": [],
      "source": [
        "x_Train, x_Test, y_Train, y_Test = train_test_split(features_scaled, target, test_size = 0.2, random_state = 6)"
      ]
    },
    {
      "cell_type": "code",
      "execution_count": null,
      "metadata": {
        "id": "KI0XhP_Nkrpw"
      },
      "outputs": [],
      "source": [
        "x_Train.shape"
      ]
    },
    {
      "cell_type": "code",
      "execution_count": null,
      "metadata": {
        "id": "3cITQOBxx28x"
      },
      "outputs": [],
      "source": [
        "from sklearn import linear_model\n",
        "model = sk.linear_model.LinearRegression()\n",
        "model.fit(x_Train, y_Train)\n",
        "y_pred = model.predict(x_Test)\n",
        "mse = sk.metrics.mean_squared_error(y_Test, y_pred)\n",
        "r2 = sk.metrics.r2_score(y_Test, y_pred)\n",
        "print('Mean squared error: {:.2f}'.format(mse))"
      ]
    },
    {
      "cell_type": "code",
      "source": [
        "from tensorflow.keras import *\n",
        "from tensorflow.keras.layers import *\n",
        "x_Train = x_Train.reshape((x_Train.shape[0], x_Train.shape[1], 1))\n",
        "x_Test = x_Test.reshape((x_Test.shape[0], x_Test.shape[1], 1))"
      ],
      "metadata": {
        "id": "aL38Yn3Ya82S"
      },
      "execution_count": null,
      "outputs": []
    },
    {
      "cell_type": "code",
      "execution_count": null,
      "metadata": {
        "id": "fnQFK96xx28y"
      },
      "outputs": [],
      "source": [
        "\n",
        "\n",
        "model = Sequential()\n",
        "model.add(Conv1D(filters=64, kernel_size=3, activation='relu', input_shape=(x_Train.shape[1], 1)))\n",
        "model.add(Conv1D(filters=128, kernel_size=1, activation='relu'))\n",
        "model.add(Conv1D(filters=256, kernel_size=3, activation='relu'))\n",
        "model.add(Conv1D(filters=512, kernel_size=3, activation='relu'))\n",
        "model.add(MaxPooling1D(pool_size=1))\n",
        "model.add(Flatten())\n",
        "model.add(Dense(128, activation='relu'))\n",
        "model.add(Dropout(0.2))\n",
        "model.add(Dense(10, activation='linear'))\n",
        "\n",
        "model.compile(loss='sparse_categorical_crossentropy', optimizer='adam',metrics='accuracy')\n",
        "model.fit(x_Train, y_Train, epochs=100, batch_size=64)\n",
        "model.evaluate(x_Test, y_Test)\n"
      ]
    },
    {
      "cell_type": "code",
      "execution_count": null,
      "metadata": {
        "id": "vTkPaInSx28y"
      },
      "outputs": [],
      "source": [
        "model = tf.keras.Sequential([\n",
        "    layers.Flatten(input_shape=(x_Train.shape[1],1)),\n",
        "    layers.Dense(16, activation='relu'),\n",
        "    layers.Dense(32, activation='relu'),\n",
        "    layers.Dense(64, activation='relu'),\n",
        "    layers.Dense(128, activation='relu'),\n",
        "    layers.Dense(10, activation='softmax')\n",
        "])\n",
        "model.compile(loss='sparse_categorical_crossentropy', optimizer='adam')\n",
        "model.fit(x_Train, y_Train, epochs=100, batch_size=128)\n",
        "model.evaluate(x_Test, y_Test)"
      ]
    },
    {
      "cell_type": "code",
      "execution_count": null,
      "metadata": {
        "id": "QKAbR2llx28y"
      },
      "outputs": [],
      "source": [
        "model = tf.keras.Sequential([\n",
        "    layers.LSTM(64, return_sequences=True, input_shape=(x_Train.shape[1],1)),\n",
        "    layers.LSTM(32),\n",
        "    layers.Dense(10, activation='softmax')\n",
        "])\n",
        "model.compile(loss='sparse_categorical_crossentropy', optimizer='adam')\n",
        "\n",
        "model.fit(x_Train, y_Train, epochs=100, batch_size=32)\n",
        "model.evaluate(x_Test, y_Test)"
      ]
    }
  ],
  "metadata": {
    "colab": {
      "provenance": []
    },
    "kernelspec": {
      "display_name": "Python 3",
      "language": "python",
      "name": "python3"
    },
    "language_info": {
      "codemirror_mode": {
        "name": "ipython",
        "version": 3
      },
      "file_extension": ".py",
      "mimetype": "text/x-python",
      "name": "python",
      "nbconvert_exporter": "python",
      "pygments_lexer": "ipython3",
      "version": "3.10.10"
    },
    "vscode": {
      "interpreter": {
        "hash": "ae4222f051e9b1ff1b7b46e5b84f02b0bb8cf297303877c9a81673e16f30d680"
      }
    },
    "accelerator": "GPU",
    "gpuClass": "standard"
  },
  "nbformat": 4,
  "nbformat_minor": 0
}